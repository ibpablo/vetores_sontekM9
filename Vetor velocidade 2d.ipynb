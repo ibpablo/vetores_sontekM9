{
 "cells": [
  {
   "cell_type": "code",
   "execution_count": 18,
   "metadata": {},
   "outputs": [],
   "source": [
    "import utm\n",
    "import math\n",
    "import numpy as np\n",
    "import pandas as pd\n",
    "import re\n",
    "import geopandas as gpd\n",
    "import scipy.io as sio\n",
    "import matplotlib.pyplot as plt\n",
    "from shapely.geometry import Point, LineString\n",
    "import matplotlib.pyplot as plt\n",
    "import datetime\n",
    "import geomag\n",
    "import utm"
   ]
  },
  {
   "cell_type": "code",
   "execution_count": 2,
   "metadata": {},
   "outputs": [
    {
     "data": {
      "text/plain": [
       "0.7582785475697479"
      ]
     },
     "execution_count": 2,
     "metadata": {},
     "output_type": "execute_result"
    }
   ],
   "source": [
    "#declinação magnética\n",
    "geomag.declination(dlat =  45.128256, dlon = -93.299030, time = datetime.date(2010, 8, 4))"
   ]
  },
  {
   "cell_type": "code",
   "execution_count": 160,
   "metadata": {},
   "outputs": [],
   "source": [
    "df =  pd.read_csv(r\"E:\\Usuário\\Pablo\\Documents\\MEGAsync\\Trabalhos hidrologia\\medições de vazao\\Curso Qrev\\Data\\M9_Eel\\20100804102527.sum\", encoding='windows-1252')  \n",
    "df_matlab = sio.loadmat(r\"E:\\Usuário\\Pablo\\Documents\\MEGAsync\\Trabalhos hidrologia\\medições de vazao\\Curso Qrev\\Data\\M9_Eel\\20100804102527.mat\")\n",
    "df_utm = pd.DataFrame({'utm_x' : [x[0] for x in df_matlab['GPS'][0][-1][-2]], 'utm_y' : [x[1] for x in df_matlab['GPS'][0][-1][-2]]})"
   ]
  },
  {
   "cell_type": "code",
   "execution_count": 162,
   "metadata": {},
   "outputs": [],
   "source": [
    "nome_final = 'rio_missisipi' + '_' +'20100804102527'"
   ]
  },
  {
   "cell_type": "code",
   "execution_count": 164,
   "metadata": {},
   "outputs": [],
   "source": [
    "#Função para alinhamento da medição.\n",
    "a, b = np.polyfit((df_utm['utm_x'].iloc[1] , df_utm['utm_x'].iloc[-1]), (df_utm['utm_y'].iloc[1] , df_utm['utm_y'].iloc[-1]), 1)"
   ]
  },
  {
   "cell_type": "code",
   "execution_count": 165,
   "metadata": {},
   "outputs": [],
   "source": [
    "#Criando alinhamento para embarcação. \n",
    "df_utm['utm_y_alinhado'] = a * df_utm['utm_x'] + b"
   ]
  },
  {
   "cell_type": "code",
   "execution_count": 166,
   "metadata": {},
   "outputs": [
    {
     "data": {
      "image/png": "[encoded data removed]",
      "text/plain": [
       "<Figure size 1440x720 with 1 Axes>"
      ]
     },
     "metadata": {
      "needs_background": "light"
     },
     "output_type": "display_data"
    }
   ],
   "source": [
    "plt.figure(figsize = (20, 10))\n",
    "\n",
    "plt.scatter(df_utm['utm_x'], df_utm['utm_y_alinhado'])\n",
    "plt.scatter(df_utm['utm_x'], df_utm['utm_y'])\n",
    "plt.show();"
   ]
  },
  {
   "cell_type": "code",
   "execution_count": 167,
   "metadata": {},
   "outputs": [],
   "source": [
    "fator_multiplicador = 50\n",
    "\n",
    "df_utm['x_reprojetado'] = (np.sin(np.radians(df['Direction (deg)'])) * fator_multiplicador * df['Mean Speed (m/s)']) + df_utm['utm_x']\n",
    "df_utm['y_barco'] = (np.cos(np.radians(df['Direction (deg)'])) * fator_multiplicador * df['Mean Speed (m/s)']) + df_utm['utm_y']\n",
    "df_utm['y_alinhamento_medição'] = (np.cos(np.radians(df['Direction (deg)'])) * fator_multiplicador * df['Mean Speed (m/s)']) + df_utm['utm_y_alinhado']"
   ]
  },
  {
   "cell_type": "code",
   "execution_count": 170,
   "metadata": {},
   "outputs": [],
   "source": [
    "#Agregar para tabela de atributo.\n",
    "df_utm['velocidade'] = df['Mean Speed (m/s)']"
   ]
  },
  {
   "cell_type": "code",
   "execution_count": 171,
   "metadata": {},
   "outputs": [],
   "source": [
    "#Exportando os dados com travessia no sentido do barco.\n",
    "\n",
    "fichamento = {'id_vetor' : [],\n",
    "              'velocidade' : [],\n",
    "              'vetor' : []}\n",
    "\n",
    "for i, valores in df_utm.iterrows():\n",
    "    #print(valores)\n",
    "    fichamento['id_vetor'].append(i)\n",
    "    fichamento['velocidade'].append(valores['velocidade'])\n",
    "    fichamento['vetor'].append(LineString([Point(valores['utm_x'], valores['utm_y']), Point(valores['x_reprojetado'],valores['y_barco'])]))\n",
    "    \n",
    "    \n",
    "#Criando o dataframe.\n",
    "df_fichamento = pd.DataFrame(fichamento)\n",
    "\n",
    "#caso queira reduzir o número de vetores.\n",
    "#df_fichamento = pd.DataFrame(fichamento)[::6]\n",
    "\n",
    "#Convertendo em geodataframe.\n",
    "df_geo = gpd.GeoDataFrame(df_fichamento, geometry = df_fichamento['vetor'])\n",
    "\n",
    "#caso queira só os transects\n",
    "#df_geo = df_geo[11:462]\n",
    "\n",
    "#Setando o sistema de coordenadas.\n",
    "df_geo = df_geo.set_crs('epsg:32615')\n",
    "\n",
    "#excluindo coluna que não interessa.\n",
    "df_geo.drop('vetor', axis = 1, inplace= True)\n",
    "\n",
    "#Exportando o arquivo shapefile.\n",
    "df_geo.to_file(f'E:/Usuário/Pablo/Documents/MEGAsync/Trabalhos hidrologia/medições de vazao/Curso Qrev/Data/M9_Eel/Export Python/{nome_final}_alinhamento_barco.shp')   "
   ]
  },
  {
   "cell_type": "code",
   "execution_count": 172,
   "metadata": {},
   "outputs": [],
   "source": [
    "#criando alinhamento travessia\n",
    "line_df = pd.DataFrame()\n",
    "line_df['Attrib'] = [1]\n",
    "line_gdf = gpd.GeoDataFrame(line_df, geometry=[LineString(list(zip(df_utm['utm_x'].values, df_utm['utm_y'].values)))])\n",
    "\n",
    "df_linha = line_gdf.set_crs('epsg:32615')\n",
    "\n",
    "#caso queira só os transects\n",
    "#df_linha = df_linha[11:462]\n",
    "\n",
    "#Exportando linha de travessia.\n",
    "df_linha.to_file(f'E:/Usuário/Pablo/Documents/MEGAsync/Trabalhos hidrologia/medições de vazao/Curso Qrev/Data/M9_Eel/Export Python/alinhamento_barco.shp')   "
   ]
  },
  {
   "cell_type": "code",
   "execution_count": 174,
   "metadata": {},
   "outputs": [],
   "source": [
    "#Vetores no sentido do alinhamento do ponto final e inicial.\n",
    "\n",
    "fichamento = {'id_vetor' : [],\n",
    "              'velocidade' : [],\n",
    "              'vetor' : []}\n",
    "\n",
    "\n",
    "for i, valores in df_utm.iterrows():\n",
    "    #print(valores)\n",
    "    fichamento['id_vetor'].append(i)\n",
    "    fichamento['velocidade'].append(valores['velocidade'])\n",
    "    fichamento['vetor'].append(LineString([Point(valores['utm_x'], valores['utm_y_alinhado']), Point(valores['x_reprojetado'],valores['y_alinhamento_medição'])]))\n",
    "    \n",
    "df_fichamento = pd.DataFrame(fichamento)\n",
    "\n",
    "#Só os transects.\n",
    "df_fichamento = df_fichamento[11:462]\n",
    "\n",
    "#caso queira reduzir o número de vetores.\n",
    "#df_fichamento = df_fichamento[::6]\n",
    "\n",
    "df_geo = gpd.GeoDataFrame(df_fichamento, geometry = df_fichamento['vetor'])\n",
    "df_geo = df_geo.set_crs('epsg:32615')\n",
    "df_geo.drop('vetor', axis = 1, inplace= True)\n",
    "df_geo.to_file(f'E:/Usuário/Pablo/Documents/MEGAsync/Trabalhos hidrologia/medições de vazao/Curso Qrev/Data/M9_Eel/Export Python/{nome_final}_alinhamento_medicao.shp')"
   ]
  },
  {
   "cell_type": "code",
   "execution_count": 175,
   "metadata": {},
   "outputs": [],
   "source": [
    "#criando alinhamento travessia\n",
    "line_df = pd.DataFrame()\n",
    "line_df['Attrib'] = [1]\n",
    "line_gdf = gpd.GeoDataFrame(line_df, geometry=[LineString(list(zip(df_utm['utm_x'].values[11:462], df_utm['utm_y_alinhado'].values[11:462])))])\n",
    "\n",
    "df_linha = line_gdf.set_crs('epsg:32615')\n",
    "\n",
    "#Exportando linha de travessia.\n",
    "df_linha.to_file(f'E:/Usuário/Pablo/Documents/MEGAsync/Trabalhos hidrologia/medições de vazao/Curso Qrev/Data/M9_Eel/Export Python/alinhamento_medicao.shp')   "
   ]
  },
  {
   "cell_type": "code",
   "execution_count": 176,
   "metadata": {},
   "outputs": [
    {
     "data": {
      "text/html": [
       "<div>\n",
       "<style scoped>\n",
       "    .dataframe tbody tr th:only-of-type {\n",
       "        vertical-align: middle;\n",
       "    }\n",
       "\n",
       "    .dataframe tbody tr th {\n",
       "        vertical-align: top;\n",
       "    }\n",
       "\n",
       "    .dataframe thead th {\n",
       "        text-align: right;\n",
       "    }\n",
       "</style>\n",
       "<table border=\"1\" class=\"dataframe\">\n",
       "  <thead>\n",
       "    <tr style=\"text-align: right;\">\n",
       "      <th></th>\n",
       "      <th>Attrib</th>\n",
       "      <th>geometry</th>\n",
       "    </tr>\n",
       "  </thead>\n",
       "  <tbody>\n",
       "    <tr>\n",
       "      <th>0</th>\n",
       "      <td>1</td>\n",
       "      <td>LINESTRING (476555.808 4997398.008, 476555.852...</td>\n",
       "    </tr>\n",
       "  </tbody>\n",
       "</table>\n",
       "</div>"
      ],
      "text/plain": [
       "   Attrib                                           geometry\n",
       "0       1  LINESTRING (476555.808 4997398.008, 476555.852..."
      ]
     },
     "execution_count": 176,
     "metadata": {},
     "output_type": "execute_result"
    }
   ],
   "source": [
    "df_linha"
   ]
  },
  {
   "cell_type": "code",
   "execution_count": null,
   "metadata": {},
   "outputs": [],
   "source": []
  },
  {
   "cell_type": "code",
   "execution_count": null,
   "metadata": {},
   "outputs": [],
   "source": []
  }
 ],
 "metadata": {
  "kernelspec": {
   "display_name": "Python 3",
   "language": "python",
   "name": "python3"
  },
  "language_info": {
   "codemirror_mode": {
    "name": "ipython",
    "version": 3
   },
   "file_extension": ".py",
   "mimetype": "text/x-python",
   "name": "python",
   "nbconvert_exporter": "python",
   "pygments_lexer": "ipython3",
   "version": "3.8.5"
  }
 },
 "nbformat": 4,
 "nbformat_minor": 4
}
