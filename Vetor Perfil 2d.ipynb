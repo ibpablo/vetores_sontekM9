{
 "cells": [
  {
   "cell_type": "code",
   "execution_count": 1,
   "metadata": {},
   "outputs": [],
   "source": [
    "import utm\n",
    "import math\n",
    "import numpy as np\n",
    "import pandas as pd\n",
    "import re\n",
    "import geopandas as gpd\n",
    "import random\n",
    "import scipy.io as sio\n",
    "gpd.io.file.fiona.drvsupport.supported_drivers['KML'] = 'rw'\n",
    "import matplotlib.pyplot as plt\n",
    "from scipy.interpolate import interp2d\n",
    "from shapely.geometry import Point, LineString\n",
    "import matplotlib.pyplot as plt"
   ]
  },
  {
   "cell_type": "code",
   "execution_count": 2,
   "metadata": {},
   "outputs": [],
   "source": [
    "df =  pd.read_csv(r\"E:\\Usuário\\Pablo\\Documents\\MEGAsync\\Trabalhos hidrologia\\medições de vazao\\Brilhante\\20220607121313.sum\", encoding='windows-1252')  \n",
    "df_matlab = sio.loadmat(r\"E:\\Usuário\\Pablo\\Documents\\MEGAsync\\Trabalhos hidrologia\\medições de vazao\\Brilhante\\20220607121313.mat\")\n",
    "df_utm = pd.DataFrame({'utm_x' : [x[0] for x in df_matlab['GPS'][0][-1][-2]], 'utm_y' : [x[1] for x in df_matlab['GPS'][0][-1][-2]]})\n",
    "velocidades = pd.read_csv(r\"E:\\Usuário\\Pablo\\Documents\\MEGAsync\\Trabalhos hidrologia\\medições de vazao\\Brilhante\\20220607121313.vel\", encoding='windows-1252')\n",
    "\n",
    "nome_salvamento = 'brilhante' + '20220607121313'"
   ]
  },
  {
   "cell_type": "code",
   "execution_count": 4,
   "metadata": {},
   "outputs": [],
   "source": [
    " df['zscore_direction'] = ((df['Direction (deg)'].mean() - df['Direction (deg)']))/df['Direction (deg)'].std()"
   ]
  },
  {
   "cell_type": "code",
   "execution_count": 5,
   "metadata": {},
   "outputs": [],
   "source": [
    "#Separando coordenadas x e y\n",
    "utm_x = df_utm['utm_x']\n",
    "utm_y = df_utm['utm_y']\n",
    "\n",
    "#Separando as componentes de velocidade. \n",
    "\n",
    "name_velx = []\n",
    "name_vely = []\n",
    "name_velz = []\n",
    "\n",
    "\n",
    "for nomex in velocidades.columns:\n",
    "    if re.search(r'Ve', nomex) != None:\n",
    "        name_velx.append(nomex)\n",
    "        \n",
    "for nomey in velocidades.columns:\n",
    "    if re.search(r'Vn', nomey) != None:\n",
    "        name_vely.append(nomey)\n",
    "        \n",
    "for namez in velocidades.columns:\n",
    "    if re.search(r'Vu', namez) != None:\n",
    "        name_velz.append(namez)\n",
    "\n",
    "#Coponentes de interesse.        \n",
    "        \n",
    "velocidade_x = velocidades[name_velx]\n",
    "velocidade_y = velocidades[name_vely]\n",
    "velocidade_z = velocidades[name_velz]\n",
    "\n",
    "#pegando a intensidade m/s\n",
    "\n",
    "colunas_intensidade = []\n",
    "\n",
    "for intensidade in velocidades.columns:\n",
    "    if re.search(r'Spd', intensidade) != None:\n",
    "        colunas_intensidade.append(intensidade)\n",
    "        \n",
    "#intesidade do vetor velocidade (m/s)\n",
    "intensidade = velocidades[colunas_intensidade]\n",
    "        \n",
    "\n",
    "#Pegando as profundidades.\n",
    "\n",
    "lista_profundidades = []\n",
    "\n",
    "\n",
    "for i in velocidades.columns:\n",
    "    if re.search(r'Location', i) != None:\n",
    "        lista_profundidades.append(i)\n",
    "        \n",
    "#Apenas a profundidade        \n",
    "profundidades = velocidades[lista_profundidades]\n",
    "\n",
    "\n",
    "#Criando matrizes de coordenadas\n",
    "utmx_matriz = pd.concat([utm_x]*profundidades.shape[1], axis = 1)\n",
    "utmy_matriz = pd.concat([utm_y]*profundidades.shape[1], axis = 1)\n",
    "distancias_matriz = pd.concat([df['Track (m)']]*profundidades.shape[1], axis = 1)"
   ]
  },
  {
   "cell_type": "code",
   "execution_count": 104,
   "metadata": {},
   "outputs": [
    {
     "data": {
      "text/html": [
       "<div>\n",
       "<style scoped>\n",
       "    .dataframe tbody tr th:only-of-type {\n",
       "        vertical-align: middle;\n",
       "    }\n",
       "\n",
       "    .dataframe tbody tr th {\n",
       "        vertical-align: top;\n",
       "    }\n",
       "\n",
       "    .dataframe thead th {\n",
       "        text-align: right;\n",
       "    }\n",
       "</style>\n",
       "<table border=\"1\" class=\"dataframe\">\n",
       "  <thead>\n",
       "    <tr style=\"text-align: right;\">\n",
       "      <th></th>\n",
       "      <th>Track (m)</th>\n",
       "      <th>Track (m)</th>\n",
       "      <th>Track (m)</th>\n",
       "      <th>Track (m)</th>\n",
       "      <th>Track (m)</th>\n",
       "      <th>Track (m)</th>\n",
       "      <th>Track (m)</th>\n",
       "      <th>Track (m)</th>\n",
       "      <th>Track (m)</th>\n",
       "      <th>Track (m)</th>\n",
       "      <th>...</th>\n",
       "      <th>Track (m)</th>\n",
       "      <th>Track (m)</th>\n",
       "      <th>Track (m)</th>\n",
       "      <th>Track (m)</th>\n",
       "      <th>Track (m)</th>\n",
       "      <th>Track (m)</th>\n",
       "      <th>Track (m)</th>\n",
       "      <th>Track (m)</th>\n",
       "      <th>Track (m)</th>\n",
       "      <th>Track (m)</th>\n",
       "    </tr>\n",
       "  </thead>\n",
       "  <tbody>\n",
       "    <tr>\n",
       "      <th>0</th>\n",
       "      <td>0.02</td>\n",
       "      <td>0.02</td>\n",
       "      <td>0.02</td>\n",
       "      <td>0.02</td>\n",
       "      <td>0.02</td>\n",
       "      <td>0.02</td>\n",
       "      <td>0.02</td>\n",
       "      <td>0.02</td>\n",
       "      <td>0.02</td>\n",
       "      <td>0.02</td>\n",
       "      <td>...</td>\n",
       "      <td>NaN</td>\n",
       "      <td>NaN</td>\n",
       "      <td>NaN</td>\n",
       "      <td>NaN</td>\n",
       "      <td>NaN</td>\n",
       "      <td>NaN</td>\n",
       "      <td>NaN</td>\n",
       "      <td>NaN</td>\n",
       "      <td>NaN</td>\n",
       "      <td>NaN</td>\n",
       "    </tr>\n",
       "    <tr>\n",
       "      <th>1</th>\n",
       "      <td>0.04</td>\n",
       "      <td>0.04</td>\n",
       "      <td>0.04</td>\n",
       "      <td>0.04</td>\n",
       "      <td>0.04</td>\n",
       "      <td>0.04</td>\n",
       "      <td>0.04</td>\n",
       "      <td>0.04</td>\n",
       "      <td>0.04</td>\n",
       "      <td>0.04</td>\n",
       "      <td>...</td>\n",
       "      <td>NaN</td>\n",
       "      <td>NaN</td>\n",
       "      <td>NaN</td>\n",
       "      <td>NaN</td>\n",
       "      <td>NaN</td>\n",
       "      <td>NaN</td>\n",
       "      <td>NaN</td>\n",
       "      <td>NaN</td>\n",
       "      <td>NaN</td>\n",
       "      <td>NaN</td>\n",
       "    </tr>\n",
       "    <tr>\n",
       "      <th>2</th>\n",
       "      <td>0.06</td>\n",
       "      <td>0.06</td>\n",
       "      <td>0.06</td>\n",
       "      <td>0.06</td>\n",
       "      <td>0.06</td>\n",
       "      <td>0.06</td>\n",
       "      <td>0.06</td>\n",
       "      <td>0.06</td>\n",
       "      <td>0.06</td>\n",
       "      <td>0.06</td>\n",
       "      <td>...</td>\n",
       "      <td>NaN</td>\n",
       "      <td>NaN</td>\n",
       "      <td>NaN</td>\n",
       "      <td>NaN</td>\n",
       "      <td>NaN</td>\n",
       "      <td>NaN</td>\n",
       "      <td>NaN</td>\n",
       "      <td>NaN</td>\n",
       "      <td>NaN</td>\n",
       "      <td>NaN</td>\n",
       "    </tr>\n",
       "    <tr>\n",
       "      <th>3</th>\n",
       "      <td>0.08</td>\n",
       "      <td>0.08</td>\n",
       "      <td>0.08</td>\n",
       "      <td>0.08</td>\n",
       "      <td>0.08</td>\n",
       "      <td>0.08</td>\n",
       "      <td>0.08</td>\n",
       "      <td>0.08</td>\n",
       "      <td>0.08</td>\n",
       "      <td>0.08</td>\n",
       "      <td>...</td>\n",
       "      <td>NaN</td>\n",
       "      <td>NaN</td>\n",
       "      <td>NaN</td>\n",
       "      <td>NaN</td>\n",
       "      <td>NaN</td>\n",
       "      <td>NaN</td>\n",
       "      <td>NaN</td>\n",
       "      <td>NaN</td>\n",
       "      <td>NaN</td>\n",
       "      <td>NaN</td>\n",
       "    </tr>\n",
       "    <tr>\n",
       "      <th>4</th>\n",
       "      <td>0.09</td>\n",
       "      <td>0.09</td>\n",
       "      <td>0.09</td>\n",
       "      <td>0.09</td>\n",
       "      <td>0.09</td>\n",
       "      <td>0.09</td>\n",
       "      <td>0.09</td>\n",
       "      <td>0.09</td>\n",
       "      <td>0.09</td>\n",
       "      <td>0.09</td>\n",
       "      <td>...</td>\n",
       "      <td>NaN</td>\n",
       "      <td>NaN</td>\n",
       "      <td>NaN</td>\n",
       "      <td>NaN</td>\n",
       "      <td>NaN</td>\n",
       "      <td>NaN</td>\n",
       "      <td>NaN</td>\n",
       "      <td>NaN</td>\n",
       "      <td>NaN</td>\n",
       "      <td>NaN</td>\n",
       "    </tr>\n",
       "    <tr>\n",
       "      <th>...</th>\n",
       "      <td>...</td>\n",
       "      <td>...</td>\n",
       "      <td>...</td>\n",
       "      <td>...</td>\n",
       "      <td>...</td>\n",
       "      <td>...</td>\n",
       "      <td>...</td>\n",
       "      <td>...</td>\n",
       "      <td>...</td>\n",
       "      <td>...</td>\n",
       "      <td>...</td>\n",
       "      <td>...</td>\n",
       "      <td>...</td>\n",
       "      <td>...</td>\n",
       "      <td>...</td>\n",
       "      <td>...</td>\n",
       "      <td>...</td>\n",
       "      <td>...</td>\n",
       "      <td>...</td>\n",
       "      <td>...</td>\n",
       "      <td>...</td>\n",
       "    </tr>\n",
       "    <tr>\n",
       "      <th>322</th>\n",
       "      <td>110.63</td>\n",
       "      <td>110.63</td>\n",
       "      <td>110.63</td>\n",
       "      <td>110.63</td>\n",
       "      <td>110.63</td>\n",
       "      <td>110.63</td>\n",
       "      <td>110.63</td>\n",
       "      <td>110.63</td>\n",
       "      <td>110.63</td>\n",
       "      <td>110.63</td>\n",
       "      <td>...</td>\n",
       "      <td>NaN</td>\n",
       "      <td>NaN</td>\n",
       "      <td>NaN</td>\n",
       "      <td>NaN</td>\n",
       "      <td>NaN</td>\n",
       "      <td>NaN</td>\n",
       "      <td>NaN</td>\n",
       "      <td>NaN</td>\n",
       "      <td>NaN</td>\n",
       "      <td>NaN</td>\n",
       "    </tr>\n",
       "    <tr>\n",
       "      <th>323</th>\n",
       "      <td>110.67</td>\n",
       "      <td>110.67</td>\n",
       "      <td>110.67</td>\n",
       "      <td>110.67</td>\n",
       "      <td>110.67</td>\n",
       "      <td>110.67</td>\n",
       "      <td>110.67</td>\n",
       "      <td>110.67</td>\n",
       "      <td>110.67</td>\n",
       "      <td>110.67</td>\n",
       "      <td>...</td>\n",
       "      <td>NaN</td>\n",
       "      <td>NaN</td>\n",
       "      <td>NaN</td>\n",
       "      <td>NaN</td>\n",
       "      <td>NaN</td>\n",
       "      <td>NaN</td>\n",
       "      <td>NaN</td>\n",
       "      <td>NaN</td>\n",
       "      <td>NaN</td>\n",
       "      <td>NaN</td>\n",
       "    </tr>\n",
       "    <tr>\n",
       "      <th>324</th>\n",
       "      <td>110.71</td>\n",
       "      <td>110.71</td>\n",
       "      <td>110.71</td>\n",
       "      <td>110.71</td>\n",
       "      <td>110.71</td>\n",
       "      <td>110.71</td>\n",
       "      <td>110.71</td>\n",
       "      <td>110.71</td>\n",
       "      <td>110.71</td>\n",
       "      <td>110.71</td>\n",
       "      <td>...</td>\n",
       "      <td>NaN</td>\n",
       "      <td>NaN</td>\n",
       "      <td>NaN</td>\n",
       "      <td>NaN</td>\n",
       "      <td>NaN</td>\n",
       "      <td>NaN</td>\n",
       "      <td>NaN</td>\n",
       "      <td>NaN</td>\n",
       "      <td>NaN</td>\n",
       "      <td>NaN</td>\n",
       "    </tr>\n",
       "    <tr>\n",
       "      <th>325</th>\n",
       "      <td>110.74</td>\n",
       "      <td>110.74</td>\n",
       "      <td>110.74</td>\n",
       "      <td>110.74</td>\n",
       "      <td>110.74</td>\n",
       "      <td>110.74</td>\n",
       "      <td>110.74</td>\n",
       "      <td>110.74</td>\n",
       "      <td>110.74</td>\n",
       "      <td>110.74</td>\n",
       "      <td>...</td>\n",
       "      <td>NaN</td>\n",
       "      <td>NaN</td>\n",
       "      <td>NaN</td>\n",
       "      <td>NaN</td>\n",
       "      <td>NaN</td>\n",
       "      <td>NaN</td>\n",
       "      <td>NaN</td>\n",
       "      <td>NaN</td>\n",
       "      <td>NaN</td>\n",
       "      <td>NaN</td>\n",
       "    </tr>\n",
       "    <tr>\n",
       "      <th>326</th>\n",
       "      <td>110.79</td>\n",
       "      <td>110.79</td>\n",
       "      <td>110.79</td>\n",
       "      <td>110.79</td>\n",
       "      <td>110.79</td>\n",
       "      <td>110.79</td>\n",
       "      <td>110.79</td>\n",
       "      <td>110.79</td>\n",
       "      <td>110.79</td>\n",
       "      <td>110.79</td>\n",
       "      <td>...</td>\n",
       "      <td>NaN</td>\n",
       "      <td>NaN</td>\n",
       "      <td>NaN</td>\n",
       "      <td>NaN</td>\n",
       "      <td>NaN</td>\n",
       "      <td>NaN</td>\n",
       "      <td>NaN</td>\n",
       "      <td>NaN</td>\n",
       "      <td>NaN</td>\n",
       "      <td>NaN</td>\n",
       "    </tr>\n",
       "  </tbody>\n",
       "</table>\n",
       "<p>327 rows × 68 columns</p>\n",
       "</div>"
      ],
      "text/plain": [
       "     Track (m)  Track (m)  Track (m)  Track (m)  Track (m)  Track (m)  \\\n",
       "0         0.02       0.02       0.02       0.02       0.02       0.02   \n",
       "1         0.04       0.04       0.04       0.04       0.04       0.04   \n",
       "2         0.06       0.06       0.06       0.06       0.06       0.06   \n",
       "3         0.08       0.08       0.08       0.08       0.08       0.08   \n",
       "4         0.09       0.09       0.09       0.09       0.09       0.09   \n",
       "..         ...        ...        ...        ...        ...        ...   \n",
       "322     110.63     110.63     110.63     110.63     110.63     110.63   \n",
       "323     110.67     110.67     110.67     110.67     110.67     110.67   \n",
       "324     110.71     110.71     110.71     110.71     110.71     110.71   \n",
       "325     110.74     110.74     110.74     110.74     110.74     110.74   \n",
       "326     110.79     110.79     110.79     110.79     110.79     110.79   \n",
       "\n",
       "     Track (m)  Track (m)  Track (m)  Track (m)  ...  Track (m)  Track (m)  \\\n",
       "0         0.02       0.02       0.02       0.02  ...        NaN        NaN   \n",
       "1         0.04       0.04       0.04       0.04  ...        NaN        NaN   \n",
       "2         0.06       0.06       0.06       0.06  ...        NaN        NaN   \n",
       "3         0.08       0.08       0.08       0.08  ...        NaN        NaN   \n",
       "4         0.09       0.09       0.09       0.09  ...        NaN        NaN   \n",
       "..         ...        ...        ...        ...  ...        ...        ...   \n",
       "322     110.63     110.63     110.63     110.63  ...        NaN        NaN   \n",
       "323     110.67     110.67     110.67     110.67  ...        NaN        NaN   \n",
       "324     110.71     110.71     110.71     110.71  ...        NaN        NaN   \n",
       "325     110.74     110.74     110.74     110.74  ...        NaN        NaN   \n",
       "326     110.79     110.79     110.79     110.79  ...        NaN        NaN   \n",
       "\n",
       "     Track (m)  Track (m)  Track (m)  Track (m)  Track (m)  Track (m)  \\\n",
       "0          NaN        NaN        NaN        NaN        NaN        NaN   \n",
       "1          NaN        NaN        NaN        NaN        NaN        NaN   \n",
       "2          NaN        NaN        NaN        NaN        NaN        NaN   \n",
       "3          NaN        NaN        NaN        NaN        NaN        NaN   \n",
       "4          NaN        NaN        NaN        NaN        NaN        NaN   \n",
       "..         ...        ...        ...        ...        ...        ...   \n",
       "322        NaN        NaN        NaN        NaN        NaN        NaN   \n",
       "323        NaN        NaN        NaN        NaN        NaN        NaN   \n",
       "324        NaN        NaN        NaN        NaN        NaN        NaN   \n",
       "325        NaN        NaN        NaN        NaN        NaN        NaN   \n",
       "326        NaN        NaN        NaN        NaN        NaN        NaN   \n",
       "\n",
       "     Track (m)  Track (m)  \n",
       "0          NaN        NaN  \n",
       "1          NaN        NaN  \n",
       "2          NaN        NaN  \n",
       "3          NaN        NaN  \n",
       "4          NaN        NaN  \n",
       "..         ...        ...  \n",
       "322        NaN        NaN  \n",
       "323        NaN        NaN  \n",
       "324        NaN        NaN  \n",
       "325        NaN        NaN  \n",
       "326        NaN        NaN  \n",
       "\n",
       "[327 rows x 68 columns]"
      ]
     },
     "execution_count": 104,
     "metadata": {},
     "output_type": "execute_result"
    }
   ],
   "source": [
    "distancias_matriz"
   ]
  },
  {
   "cell_type": "code",
   "execution_count": 99,
   "metadata": {},
   "outputs": [],
   "source": [
    "x_array = distancias_matriz.T.to_numpy()\n",
    "y_array = profundidades.T.to_numpy()  \n",
    "z_array = intensidade.T.to_numpy()\n",
    "#transferindo os nans das outras matrizes para a matriz de distancia\n",
    "#x_array[np.isnan(y_array)] = np.nan   "
   ]
  },
  {
   "cell_type": "code",
   "execution_count": 107,
   "metadata": {
    "scrolled": true
   },
   "outputs": [
    {
     "data": {
      "text/plain": [
       "array([[2.0000e-02, 4.0000e-02, 6.0000e-02, ..., 1.1071e+02, 1.1074e+02,\n",
       "        1.1079e+02],\n",
       "       [2.0000e-02, 4.0000e-02, 6.0000e-02, ..., 1.1071e+02, 1.1074e+02,\n",
       "        1.1079e+02],\n",
       "       [2.0000e-02, 4.0000e-02, 6.0000e-02, ..., 1.1071e+02, 1.1074e+02,\n",
       "        1.1079e+02],\n",
       "       ...,\n",
       "       [2.0000e-02, 4.0000e-02, 6.0000e-02, ..., 1.1071e+02, 1.1074e+02,\n",
       "        1.1079e+02],\n",
       "       [2.0000e-02, 4.0000e-02, 6.0000e-02, ..., 1.1071e+02, 1.1074e+02,\n",
       "        1.1079e+02],\n",
       "       [2.0000e-02, 4.0000e-02, 6.0000e-02, ..., 1.1071e+02, 1.1074e+02,\n",
       "        1.1079e+02]])"
      ]
     },
     "execution_count": 107,
     "metadata": {},
     "output_type": "execute_result"
    }
   ],
   "source": [
    "x_array[0:10]"
   ]
  },
  {
   "cell_type": "code",
   "execution_count": 102,
   "metadata": {},
   "outputs": [
    {
     "data": {
      "text/plain": [
       "array([[0.37, 0.37, 0.37, ..., 0.37, 0.37, 0.37],\n",
       "       [0.39, 0.39, 0.39, ..., 0.39, 0.39, 0.39],\n",
       "       [0.41, 0.41, 0.41, ..., 0.41, 0.41, 0.41],\n",
       "       ...,\n",
       "       [ nan,  nan,  nan, ...,  nan,  nan,  nan],\n",
       "       [ nan,  nan,  nan, ...,  nan,  nan,  nan],\n",
       "       [ nan,  nan,  nan, ...,  nan,  nan,  nan]])"
      ]
     },
     "execution_count": 102,
     "metadata": {},
     "output_type": "execute_result"
    }
   ],
   "source": [
    "y_array"
   ]
  },
  {
   "cell_type": "code",
   "execution_count": 109,
   "metadata": {},
   "outputs": [
    {
     "data": {
      "image/png": "[encoded data removed]",
      "text/plain": [
       "<Figure size 432x288 with 1 Axes>"
      ]
     },
     "metadata": {
      "needs_background": "light"
     },
     "output_type": "display_data"
    }
   ],
   "source": [
    "fig, ax = plt.subplots()\n",
    "\n",
    "\n",
    "figura = ax.contourf(x_array[0:10], y_array[0:10], z_array[0:10])\n",
    "\n",
    "#fig.colorbar(figura)"
   ]
  },
  {
   "cell_type": "code",
   "execution_count": null,
   "metadata": {},
   "outputs": [],
   "source": []
  },
  {
   "cell_type": "code",
   "execution_count": null,
   "metadata": {},
   "outputs": [],
   "source": []
  },
  {
   "cell_type": "code",
   "execution_count": null,
   "metadata": {},
   "outputs": [],
   "source": []
  },
  {
   "cell_type": "code",
   "execution_count": null,
   "metadata": {},
   "outputs": [],
   "source": []
  },
  {
   "cell_type": "code",
   "execution_count": 6,
   "metadata": {},
   "outputs": [
    {
     "data": {
      "text/html": [
       "<div>\n",
       "<style scoped>\n",
       "    .dataframe tbody tr th:only-of-type {\n",
       "        vertical-align: middle;\n",
       "    }\n",
       "\n",
       "    .dataframe tbody tr th {\n",
       "        vertical-align: top;\n",
       "    }\n",
       "\n",
       "    .dataframe thead th {\n",
       "        text-align: right;\n",
       "    }\n",
       "</style>\n",
       "<table border=\"1\" class=\"dataframe\">\n",
       "  <thead>\n",
       "    <tr style=\"text-align: right;\">\n",
       "      <th></th>\n",
       "      <th>variable</th>\n",
       "      <th>distancia</th>\n",
       "    </tr>\n",
       "  </thead>\n",
       "  <tbody>\n",
       "    <tr>\n",
       "      <th>0</th>\n",
       "      <td>Track (m)</td>\n",
       "      <td>0.02</td>\n",
       "    </tr>\n",
       "    <tr>\n",
       "      <th>1</th>\n",
       "      <td>Track (m)</td>\n",
       "      <td>0.04</td>\n",
       "    </tr>\n",
       "    <tr>\n",
       "      <th>2</th>\n",
       "      <td>Track (m)</td>\n",
       "      <td>0.06</td>\n",
       "    </tr>\n",
       "    <tr>\n",
       "      <th>3</th>\n",
       "      <td>Track (m)</td>\n",
       "      <td>0.08</td>\n",
       "    </tr>\n",
       "    <tr>\n",
       "      <th>4</th>\n",
       "      <td>Track (m)</td>\n",
       "      <td>0.09</td>\n",
       "    </tr>\n",
       "    <tr>\n",
       "      <th>...</th>\n",
       "      <td>...</td>\n",
       "      <td>...</td>\n",
       "    </tr>\n",
       "    <tr>\n",
       "      <th>22231</th>\n",
       "      <td>Track (m)</td>\n",
       "      <td>110.63</td>\n",
       "    </tr>\n",
       "    <tr>\n",
       "      <th>22232</th>\n",
       "      <td>Track (m)</td>\n",
       "      <td>110.67</td>\n",
       "    </tr>\n",
       "    <tr>\n",
       "      <th>22233</th>\n",
       "      <td>Track (m)</td>\n",
       "      <td>110.71</td>\n",
       "    </tr>\n",
       "    <tr>\n",
       "      <th>22234</th>\n",
       "      <td>Track (m)</td>\n",
       "      <td>110.74</td>\n",
       "    </tr>\n",
       "    <tr>\n",
       "      <th>22235</th>\n",
       "      <td>Track (m)</td>\n",
       "      <td>110.79</td>\n",
       "    </tr>\n",
       "  </tbody>\n",
       "</table>\n",
       "<p>22236 rows × 2 columns</p>\n",
       "</div>"
      ],
      "text/plain": [
       "        variable  distancia\n",
       "0      Track (m)       0.02\n",
       "1      Track (m)       0.04\n",
       "2      Track (m)       0.06\n",
       "3      Track (m)       0.08\n",
       "4      Track (m)       0.09\n",
       "...          ...        ...\n",
       "22231  Track (m)     110.63\n",
       "22232  Track (m)     110.67\n",
       "22233  Track (m)     110.71\n",
       "22234  Track (m)     110.74\n",
       "22235  Track (m)     110.79\n",
       "\n",
       "[22236 rows x 2 columns]"
      ]
     },
     "execution_count": 6,
     "metadata": {},
     "output_type": "execute_result"
    }
   ],
   "source": [
    "pd.concat([df['Track (m)']]*profundidades.shape[1], axis = 1).melt(value_name = 'distancia')"
   ]
  },
  {
   "cell_type": "code",
   "execution_count": 7,
   "metadata": {},
   "outputs": [],
   "source": [
    "df_variaveis_para_interpolar = pd.concat( [pd.concat([df['Track (m)']]*profundidades.shape[1], axis = 1).melt(value_name = 'distancia') , profundidades.melt(value_name = 'profundidade') , intensidade.melt(value_name = 'intensidade')], axis = 1 )\n",
    "\n",
    "df_variaveis_para_interpolar.dropna(inplace =  True)"
   ]
  },
  {
   "cell_type": "code",
   "execution_count": 8,
   "metadata": {},
   "outputs": [],
   "source": [
    "df_variaveis_para_interpolar['profundidade'] = -df_variaveis_para_interpolar['profundidade']"
   ]
  },
  {
   "cell_type": "code",
   "execution_count": 9,
   "metadata": {},
   "outputs": [
    {
     "data": {
      "text/html": [
       "<div>\n",
       "<style scoped>\n",
       "    .dataframe tbody tr th:only-of-type {\n",
       "        vertical-align: middle;\n",
       "    }\n",
       "\n",
       "    .dataframe tbody tr th {\n",
       "        vertical-align: top;\n",
       "    }\n",
       "\n",
       "    .dataframe thead th {\n",
       "        text-align: right;\n",
       "    }\n",
       "</style>\n",
       "<table border=\"1\" class=\"dataframe\">\n",
       "  <thead>\n",
       "    <tr style=\"text-align: right;\">\n",
       "      <th></th>\n",
       "      <th>variable</th>\n",
       "      <th>distancia</th>\n",
       "      <th>variable</th>\n",
       "      <th>profundidade</th>\n",
       "      <th>variable</th>\n",
       "      <th>intensidade</th>\n",
       "    </tr>\n",
       "  </thead>\n",
       "  <tbody>\n",
       "    <tr>\n",
       "      <th>0</th>\n",
       "      <td>Track (m)</td>\n",
       "      <td>0.02</td>\n",
       "      <td>Cell1 Location (m)</td>\n",
       "      <td>-0.37</td>\n",
       "      <td>Cell1 Spd (m/s)</td>\n",
       "      <td>0.022</td>\n",
       "    </tr>\n",
       "    <tr>\n",
       "      <th>1</th>\n",
       "      <td>Track (m)</td>\n",
       "      <td>0.04</td>\n",
       "      <td>Cell1 Location (m)</td>\n",
       "      <td>-0.37</td>\n",
       "      <td>Cell1 Spd (m/s)</td>\n",
       "      <td>0.036</td>\n",
       "    </tr>\n",
       "    <tr>\n",
       "      <th>2</th>\n",
       "      <td>Track (m)</td>\n",
       "      <td>0.06</td>\n",
       "      <td>Cell1 Location (m)</td>\n",
       "      <td>-0.37</td>\n",
       "      <td>Cell1 Spd (m/s)</td>\n",
       "      <td>0.040</td>\n",
       "    </tr>\n",
       "    <tr>\n",
       "      <th>3</th>\n",
       "      <td>Track (m)</td>\n",
       "      <td>0.08</td>\n",
       "      <td>Cell1 Location (m)</td>\n",
       "      <td>-0.37</td>\n",
       "      <td>Cell1 Spd (m/s)</td>\n",
       "      <td>0.028</td>\n",
       "    </tr>\n",
       "    <tr>\n",
       "      <th>4</th>\n",
       "      <td>Track (m)</td>\n",
       "      <td>0.09</td>\n",
       "      <td>Cell1 Location (m)</td>\n",
       "      <td>-0.37</td>\n",
       "      <td>Cell1 Spd (m/s)</td>\n",
       "      <td>0.031</td>\n",
       "    </tr>\n",
       "    <tr>\n",
       "      <th>...</th>\n",
       "      <td>...</td>\n",
       "      <td>...</td>\n",
       "      <td>...</td>\n",
       "      <td>...</td>\n",
       "      <td>...</td>\n",
       "      <td>...</td>\n",
       "    </tr>\n",
       "    <tr>\n",
       "      <th>20633</th>\n",
       "      <td>Track (m)</td>\n",
       "      <td>1.57</td>\n",
       "      <td>Cell64 Location (m)</td>\n",
       "      <td>-1.63</td>\n",
       "      <td>Cell64 Spd (m/s)</td>\n",
       "      <td>0.032</td>\n",
       "    </tr>\n",
       "    <tr>\n",
       "      <th>20960</th>\n",
       "      <td>Track (m)</td>\n",
       "      <td>1.57</td>\n",
       "      <td>Cell65 Location (m)</td>\n",
       "      <td>-1.65</td>\n",
       "      <td>Cell65 Spd (m/s)</td>\n",
       "      <td>0.074</td>\n",
       "    </tr>\n",
       "    <tr>\n",
       "      <th>21287</th>\n",
       "      <td>Track (m)</td>\n",
       "      <td>1.57</td>\n",
       "      <td>Cell66 Location (m)</td>\n",
       "      <td>-1.67</td>\n",
       "      <td>Cell66 Spd (m/s)</td>\n",
       "      <td>0.068</td>\n",
       "    </tr>\n",
       "    <tr>\n",
       "      <th>21614</th>\n",
       "      <td>Track (m)</td>\n",
       "      <td>1.57</td>\n",
       "      <td>Cell67 Location (m)</td>\n",
       "      <td>-1.69</td>\n",
       "      <td>Cell67 Spd (m/s)</td>\n",
       "      <td>0.123</td>\n",
       "    </tr>\n",
       "    <tr>\n",
       "      <th>21941</th>\n",
       "      <td>Track (m)</td>\n",
       "      <td>1.57</td>\n",
       "      <td>Cell68 Location (m)</td>\n",
       "      <td>-1.71</td>\n",
       "      <td>Cell68 Spd (m/s)</td>\n",
       "      <td>0.111</td>\n",
       "    </tr>\n",
       "  </tbody>\n",
       "</table>\n",
       "<p>7196 rows × 6 columns</p>\n",
       "</div>"
      ],
      "text/plain": [
       "        variable  distancia             variable  profundidade  \\\n",
       "0      Track (m)       0.02   Cell1 Location (m)         -0.37   \n",
       "1      Track (m)       0.04   Cell1 Location (m)         -0.37   \n",
       "2      Track (m)       0.06   Cell1 Location (m)         -0.37   \n",
       "3      Track (m)       0.08   Cell1 Location (m)         -0.37   \n",
       "4      Track (m)       0.09   Cell1 Location (m)         -0.37   \n",
       "...          ...        ...                  ...           ...   \n",
       "20633  Track (m)       1.57  Cell64 Location (m)         -1.63   \n",
       "20960  Track (m)       1.57  Cell65 Location (m)         -1.65   \n",
       "21287  Track (m)       1.57  Cell66 Location (m)         -1.67   \n",
       "21614  Track (m)       1.57  Cell67 Location (m)         -1.69   \n",
       "21941  Track (m)       1.57  Cell68 Location (m)         -1.71   \n",
       "\n",
       "               variable  intensidade  \n",
       "0       Cell1 Spd (m/s)        0.022  \n",
       "1       Cell1 Spd (m/s)        0.036  \n",
       "2       Cell1 Spd (m/s)        0.040  \n",
       "3       Cell1 Spd (m/s)        0.028  \n",
       "4       Cell1 Spd (m/s)        0.031  \n",
       "...                 ...          ...  \n",
       "20633  Cell64 Spd (m/s)        0.032  \n",
       "20960  Cell65 Spd (m/s)        0.074  \n",
       "21287  Cell66 Spd (m/s)        0.068  \n",
       "21614  Cell67 Spd (m/s)        0.123  \n",
       "21941  Cell68 Spd (m/s)        0.111  \n",
       "\n",
       "[7196 rows x 6 columns]"
      ]
     },
     "execution_count": 9,
     "metadata": {},
     "output_type": "execute_result"
    }
   ],
   "source": [
    "df_variaveis_para_interpolar"
   ]
  },
  {
   "cell_type": "code",
   "execution_count": 158,
   "metadata": {},
   "outputs": [],
   "source": [
    "#df_variaveis_para_interpolar.to_csv(r'E:\\Usuário\\Pablo\\Documents\\MEGAsync\\Trabalhos hidrologia\\vetores 3d\\vetores_cataratas.csv')"
   ]
  },
  {
   "cell_type": "code",
   "execution_count": 10,
   "metadata": {},
   "outputs": [
    {
     "name": "stderr",
     "output_type": "stream",
     "text": [
      "E:\\Programas\\Conda\\lib\\site-packages\\scipy\\interpolate\\_fitpack_impl.py:977: RuntimeWarning: No more knots can be added because the number of B-spline\n",
      "coefficients already exceeds the number of data points m.\n",
      "Probable causes: either s or m too small. (fp>s)\n",
      "\tkx,ky=1,1 nx,ny=115,66 m=7196 fp=13.050439 s=0.000000\n",
      "  warnings.warn(RuntimeWarning(_iermess2[ierm][0] + _mess))\n"
     ]
    }
   ],
   "source": [
    "#Interpolação Linear de velocidades\n",
    "f = interp2d(df_variaveis_para_interpolar['distancia'].values , df_variaveis_para_interpolar['profundidade'].values , df_variaveis_para_interpolar['intensidade'].values,kind=\"linear\")"
   ]
  },
  {
   "cell_type": "code",
   "execution_count": 12,
   "metadata": {},
   "outputs": [],
   "source": [
    "x_coords = np.arange(min(df_variaveis_para_interpolar['distancia'].values),max(df_variaveis_para_interpolar['distancia'].values)+1)\n",
    "y_coords = np.arange(min(df_variaveis_para_interpolar['profundidade'].values), max(df_variaveis_para_interpolar['profundidade'].values)+1)"
   ]
  },
  {
   "cell_type": "code",
   "execution_count": 13,
   "metadata": {},
   "outputs": [],
   "source": [
    "y_coords = np.linspace(min(df_variaveis_para_interpolar['profundidade'].values), max(df_variaveis_para_interpolar['profundidade'].values)+1, 50)"
   ]
  },
  {
   "cell_type": "code",
   "execution_count": 149,
   "metadata": {},
   "outputs": [],
   "source": [
    "Z = f(x_coords, y_coords)"
   ]
  },
  {
   "cell_type": "code",
   "execution_count": 16,
   "metadata": {},
   "outputs": [
    {
     "data": {
      "text/plain": [
       "<matplotlib.colorbar.Colorbar at 0x1dae6e27850>"
      ]
     },
     "execution_count": 16,
     "metadata": {},
     "output_type": "execute_result"
    },
    {
     "data": {
      "image/png": "[encoded data removed]",
      "text/plain": [
       "<Figure size 1440x360 with 2 Axes>"
      ]
     },
     "metadata": {
      "needs_background": "light"
     },
     "output_type": "display_data"
    }
   ],
   "source": [
    "\n",
    "\n",
    "\n",
    "#cmap = plt.cm.get_cmap(\"jet\")\n",
    "\n",
    "plt.figure(figsize = (20, 5))\n",
    "plt.imshow(Z, extent=[min(x_coords),max(x_coords),min(y_coords),max(y_coords)], aspect='auto')\n",
    "plt.colorbar()"
   ]
  },
  {
   "cell_type": "code",
   "execution_count": 142,
   "metadata": {},
   "outputs": [
    {
     "data": {
      "text/plain": [
       "(8, 90)"
      ]
     },
     "execution_count": 142,
     "metadata": {},
     "output_type": "execute_result"
    }
   ],
   "source": [
    "random.shape"
   ]
  },
  {
   "cell_type": "code",
   "execution_count": 5,
   "metadata": {},
   "outputs": [],
   "source": [
    "#função que calcula distância em relação as coordenadas.\n",
    "sum_dist = 0\n",
    "lista_distancias = [0]\n",
    "\n",
    "for i, j in zip(range(len(utm_x)-1), range(1, len(utm_x))):\n",
    "    \n",
    "    delta_x = utm_x.iloc[i] -  utm_x.iloc[j]\n",
    "    delta_y = utm_y.iloc[i] - utm_y.iloc[j]\n",
    "    \n",
    "    \n",
    "    sum_dist +=  (delta_x**2 + delta_y**2)**(0.5)\n",
    "    \n",
    "    lista_distancias.append(sum_dist)\n",
    "    \n",
    "    \n",
    "    "
   ]
  },
  {
   "cell_type": "code",
   "execution_count": 135,
   "metadata": {},
   "outputs": [
    {
     "data": {
      "text/plain": [
       "<matplotlib.colorbar.Colorbar at 0x2190827d400>"
      ]
     },
     "execution_count": 135,
     "metadata": {},
     "output_type": "execute_result"
    },
    {
     "data": {
      "image/png": "[encoded data removed]",
      "text/plain": [
       "<Figure size 1440x720 with 2 Axes>"
      ]
     },
     "metadata": {
      "needs_background": "light"
     },
     "output_type": "display_data"
    }
   ],
   "source": [
    "fig, ax = plt.subplots(figsize = (20, 10))\n",
    "\n",
    "for colunas in utmy_matriz.T.iloc[:, 30:800:50].columns:\n",
    "    \n",
    "    \n",
    "    for x, y, dx, dy in zip(distancias_matriz.T.iloc[:, colunas], profundidades.T.iloc[:, colunas], velocidade_x.T.iloc[:, colunas], velocidade_z.T.iloc[:, colunas]):\n",
    "        \n",
    "        if not math.isnan(y):\n",
    "            \n",
    "            #print(x, y, dx, dy)\n",
    "            ax.arrow(x, -y, dx*15, dy*15, width = 0.0001 , head_width=0.25, head_length=1.5, fc='k', ec='k')\n",
    "            \n",
    "            \n",
    "    \n",
    "ax.plot(df['Track (m)'], -df['VB Depth (m)'], color = 'black')  \n",
    "    \n",
    "\n",
    "Z = f(x_coords, y_coords)\n",
    "\n",
    "cmap = plt.cm.get_cmap(\"jet\")\n",
    "\n",
    "\n",
    "plt.imshow(Z, extent=[min(x_coords),max(x_coords),min(y_coords),max(y_coords)+10], aspect='auto', cmap = cmap)\n",
    "plt.colorbar()  \n",
    "    "
   ]
  },
  {
   "cell_type": "code",
   "execution_count": 133,
   "metadata": {
    "scrolled": true
   },
   "outputs": [
    {
     "name": "stderr",
     "output_type": "stream",
     "text": [
      "<ipython-input-133-3f2998b4a248>:1: VisibleDeprecationWarning: Creating an ndarray from ragged nested sequences (which is a list-or-tuple of lists-or-tuples-or ndarrays with different lengths or shapes) is deprecated. If you meant to do this, you must specify 'dtype=object' when creating the ndarray.\n",
      "  x_array = np.array([\n"
     ]
    },
    {
     "ename": "ValueError",
     "evalue": "setting an array element with a sequence.",
     "output_type": "error",
     "traceback": [
      "\u001b[1;31m---------------------------------------------------------------------------\u001b[0m",
      "\u001b[1;31mTypeError\u001b[0m                                 Traceback (most recent call last)",
      "\u001b[1;31mTypeError\u001b[0m: float() argument must be a string or a number, not 'list'",
      "\nThe above exception was the direct cause of the following exception:\n",
      "\u001b[1;31mValueError\u001b[0m                                Traceback (most recent call last)",
      "\u001b[1;32m<ipython-input-133-3f2998b4a248>\u001b[0m in \u001b[0;36m<module>\u001b[1;34m\u001b[0m\n\u001b[0;32m     24\u001b[0m \u001b[1;33m\u001b[0m\u001b[0m\n\u001b[0;32m     25\u001b[0m \u001b[1;33m\u001b[0m\u001b[0m\n\u001b[1;32m---> 26\u001b[1;33m \u001b[0mfigura\u001b[0m \u001b[1;33m=\u001b[0m \u001b[0max\u001b[0m\u001b[1;33m.\u001b[0m\u001b[0mcontourf\u001b[0m\u001b[1;33m(\u001b[0m\u001b[0mx_array\u001b[0m\u001b[1;33m,\u001b[0m \u001b[0my_array\u001b[0m\u001b[1;33m,\u001b[0m \u001b[0mz_array\u001b[0m\u001b[1;33m,\u001b[0m \u001b[1;36m100\u001b[0m\u001b[1;33m)\u001b[0m\u001b[1;33m\u001b[0m\u001b[1;33m\u001b[0m\u001b[0m\n\u001b[0m\u001b[0;32m     27\u001b[0m \u001b[1;33m\u001b[0m\u001b[0m\n\u001b[0;32m     28\u001b[0m \u001b[0mfig\u001b[0m\u001b[1;33m.\u001b[0m\u001b[0mcolorbar\u001b[0m\u001b[1;33m(\u001b[0m\u001b[0mfigura\u001b[0m\u001b[1;33m)\u001b[0m\u001b[1;33m\u001b[0m\u001b[1;33m\u001b[0m\u001b[0m\n",
      "\u001b[1;32mE:\\Programas\\Conda\\lib\\site-packages\\matplotlib\\__init__.py\u001b[0m in \u001b[0;36minner\u001b[1;34m(ax, data, *args, **kwargs)\u001b[0m\n\u001b[0;32m   1436\u001b[0m     \u001b[1;32mdef\u001b[0m \u001b[0minner\u001b[0m\u001b[1;33m(\u001b[0m\u001b[0max\u001b[0m\u001b[1;33m,\u001b[0m \u001b[1;33m*\u001b[0m\u001b[0margs\u001b[0m\u001b[1;33m,\u001b[0m \u001b[0mdata\u001b[0m\u001b[1;33m=\u001b[0m\u001b[1;32mNone\u001b[0m\u001b[1;33m,\u001b[0m \u001b[1;33m**\u001b[0m\u001b[0mkwargs\u001b[0m\u001b[1;33m)\u001b[0m\u001b[1;33m:\u001b[0m\u001b[1;33m\u001b[0m\u001b[1;33m\u001b[0m\u001b[0m\n\u001b[0;32m   1437\u001b[0m         \u001b[1;32mif\u001b[0m \u001b[0mdata\u001b[0m \u001b[1;32mis\u001b[0m \u001b[1;32mNone\u001b[0m\u001b[1;33m:\u001b[0m\u001b[1;33m\u001b[0m\u001b[1;33m\u001b[0m\u001b[0m\n\u001b[1;32m-> 1438\u001b[1;33m             \u001b[1;32mreturn\u001b[0m \u001b[0mfunc\u001b[0m\u001b[1;33m(\u001b[0m\u001b[0max\u001b[0m\u001b[1;33m,\u001b[0m \u001b[1;33m*\u001b[0m\u001b[0mmap\u001b[0m\u001b[1;33m(\u001b[0m\u001b[0msanitize_sequence\u001b[0m\u001b[1;33m,\u001b[0m \u001b[0margs\u001b[0m\u001b[1;33m)\u001b[0m\u001b[1;33m,\u001b[0m \u001b[1;33m**\u001b[0m\u001b[0mkwargs\u001b[0m\u001b[1;33m)\u001b[0m\u001b[1;33m\u001b[0m\u001b[1;33m\u001b[0m\u001b[0m\n\u001b[0m\u001b[0;32m   1439\u001b[0m \u001b[1;33m\u001b[0m\u001b[0m\n\u001b[0;32m   1440\u001b[0m         \u001b[0mbound\u001b[0m \u001b[1;33m=\u001b[0m \u001b[0mnew_sig\u001b[0m\u001b[1;33m.\u001b[0m\u001b[0mbind\u001b[0m\u001b[1;33m(\u001b[0m\u001b[0max\u001b[0m\u001b[1;33m,\u001b[0m \u001b[1;33m*\u001b[0m\u001b[0margs\u001b[0m\u001b[1;33m,\u001b[0m \u001b[1;33m**\u001b[0m\u001b[0mkwargs\u001b[0m\u001b[1;33m)\u001b[0m\u001b[1;33m\u001b[0m\u001b[1;33m\u001b[0m\u001b[0m\n",
      "\u001b[1;32mE:\\Programas\\Conda\\lib\\site-packages\\matplotlib\\axes\\_axes.py\u001b[0m in \u001b[0;36mcontourf\u001b[1;34m(self, *args, **kwargs)\u001b[0m\n\u001b[0;32m   6338\u001b[0m     \u001b[1;32mdef\u001b[0m \u001b[0mcontourf\u001b[0m\u001b[1;33m(\u001b[0m\u001b[0mself\u001b[0m\u001b[1;33m,\u001b[0m \u001b[1;33m*\u001b[0m\u001b[0margs\u001b[0m\u001b[1;33m,\u001b[0m \u001b[1;33m**\u001b[0m\u001b[0mkwargs\u001b[0m\u001b[1;33m)\u001b[0m\u001b[1;33m:\u001b[0m\u001b[1;33m\u001b[0m\u001b[1;33m\u001b[0m\u001b[0m\n\u001b[0;32m   6339\u001b[0m         \u001b[0mkwargs\u001b[0m\u001b[1;33m[\u001b[0m\u001b[1;34m'filled'\u001b[0m\u001b[1;33m]\u001b[0m \u001b[1;33m=\u001b[0m \u001b[1;32mTrue\u001b[0m\u001b[1;33m\u001b[0m\u001b[1;33m\u001b[0m\u001b[0m\n\u001b[1;32m-> 6340\u001b[1;33m         \u001b[0mcontours\u001b[0m \u001b[1;33m=\u001b[0m \u001b[0mmcontour\u001b[0m\u001b[1;33m.\u001b[0m\u001b[0mQuadContourSet\u001b[0m\u001b[1;33m(\u001b[0m\u001b[0mself\u001b[0m\u001b[1;33m,\u001b[0m \u001b[1;33m*\u001b[0m\u001b[0margs\u001b[0m\u001b[1;33m,\u001b[0m \u001b[1;33m**\u001b[0m\u001b[0mkwargs\u001b[0m\u001b[1;33m)\u001b[0m\u001b[1;33m\u001b[0m\u001b[1;33m\u001b[0m\u001b[0m\n\u001b[0m\u001b[0;32m   6341\u001b[0m         \u001b[0mself\u001b[0m\u001b[1;33m.\u001b[0m\u001b[0m_request_autoscale_view\u001b[0m\u001b[1;33m(\u001b[0m\u001b[1;33m)\u001b[0m\u001b[1;33m\u001b[0m\u001b[1;33m\u001b[0m\u001b[0m\n\u001b[0;32m   6342\u001b[0m         \u001b[1;32mreturn\u001b[0m \u001b[0mcontours\u001b[0m\u001b[1;33m\u001b[0m\u001b[1;33m\u001b[0m\u001b[0m\n",
      "\u001b[1;32mE:\\Programas\\Conda\\lib\\site-packages\\matplotlib\\contour.py\u001b[0m in \u001b[0;36m__init__\u001b[1;34m(self, ax, levels, filled, linewidths, linestyles, hatches, alpha, origin, extent, cmap, colors, norm, vmin, vmax, extend, antialiased, nchunk, locator, transform, *args, **kwargs)\u001b[0m\n\u001b[0;32m    814\u001b[0m         \u001b[0mself\u001b[0m\u001b[1;33m.\u001b[0m\u001b[0m_transform\u001b[0m \u001b[1;33m=\u001b[0m \u001b[0mtransform\u001b[0m\u001b[1;33m\u001b[0m\u001b[1;33m\u001b[0m\u001b[0m\n\u001b[0;32m    815\u001b[0m \u001b[1;33m\u001b[0m\u001b[0m\n\u001b[1;32m--> 816\u001b[1;33m         \u001b[0mkwargs\u001b[0m \u001b[1;33m=\u001b[0m \u001b[0mself\u001b[0m\u001b[1;33m.\u001b[0m\u001b[0m_process_args\u001b[0m\u001b[1;33m(\u001b[0m\u001b[1;33m*\u001b[0m\u001b[0margs\u001b[0m\u001b[1;33m,\u001b[0m \u001b[1;33m**\u001b[0m\u001b[0mkwargs\u001b[0m\u001b[1;33m)\u001b[0m\u001b[1;33m\u001b[0m\u001b[1;33m\u001b[0m\u001b[0m\n\u001b[0m\u001b[0;32m    817\u001b[0m         \u001b[0mself\u001b[0m\u001b[1;33m.\u001b[0m\u001b[0m_process_levels\u001b[0m\u001b[1;33m(\u001b[0m\u001b[1;33m)\u001b[0m\u001b[1;33m\u001b[0m\u001b[1;33m\u001b[0m\u001b[0m\n\u001b[0;32m    818\u001b[0m \u001b[1;33m\u001b[0m\u001b[0m\n",
      "\u001b[1;32mE:\\Programas\\Conda\\lib\\site-packages\\matplotlib\\contour.py\u001b[0m in \u001b[0;36m_process_args\u001b[1;34m(self, corner_mask, *args, **kwargs)\u001b[0m\n\u001b[0;32m   1428\u001b[0m             \u001b[0mself\u001b[0m\u001b[1;33m.\u001b[0m\u001b[0m_corner_mask\u001b[0m \u001b[1;33m=\u001b[0m \u001b[0mcorner_mask\u001b[0m\u001b[1;33m\u001b[0m\u001b[1;33m\u001b[0m\u001b[0m\n\u001b[0;32m   1429\u001b[0m \u001b[1;33m\u001b[0m\u001b[0m\n\u001b[1;32m-> 1430\u001b[1;33m             \u001b[0mx\u001b[0m\u001b[1;33m,\u001b[0m \u001b[0my\u001b[0m\u001b[1;33m,\u001b[0m \u001b[0mz\u001b[0m \u001b[1;33m=\u001b[0m \u001b[0mself\u001b[0m\u001b[1;33m.\u001b[0m\u001b[0m_contour_args\u001b[0m\u001b[1;33m(\u001b[0m\u001b[0margs\u001b[0m\u001b[1;33m,\u001b[0m \u001b[0mkwargs\u001b[0m\u001b[1;33m)\u001b[0m\u001b[1;33m\u001b[0m\u001b[1;33m\u001b[0m\u001b[0m\n\u001b[0m\u001b[0;32m   1431\u001b[0m \u001b[1;33m\u001b[0m\u001b[0m\n\u001b[0;32m   1432\u001b[0m             \u001b[0m_mask\u001b[0m \u001b[1;33m=\u001b[0m \u001b[0mma\u001b[0m\u001b[1;33m.\u001b[0m\u001b[0mgetmask\u001b[0m\u001b[1;33m(\u001b[0m\u001b[0mz\u001b[0m\u001b[1;33m)\u001b[0m\u001b[1;33m\u001b[0m\u001b[1;33m\u001b[0m\u001b[0m\n",
      "\u001b[1;32mE:\\Programas\\Conda\\lib\\site-packages\\matplotlib\\contour.py\u001b[0m in \u001b[0;36m_contour_args\u001b[1;34m(self, args, kwargs)\u001b[0m\n\u001b[0;32m   1486\u001b[0m             \u001b[0margs\u001b[0m \u001b[1;33m=\u001b[0m \u001b[0margs\u001b[0m\u001b[1;33m[\u001b[0m\u001b[1;36m1\u001b[0m\u001b[1;33m:\u001b[0m\u001b[1;33m]\u001b[0m\u001b[1;33m\u001b[0m\u001b[1;33m\u001b[0m\u001b[0m\n\u001b[0;32m   1487\u001b[0m         \u001b[1;32melif\u001b[0m \u001b[0mNargs\u001b[0m \u001b[1;33m<=\u001b[0m \u001b[1;36m4\u001b[0m\u001b[1;33m:\u001b[0m\u001b[1;33m\u001b[0m\u001b[1;33m\u001b[0m\u001b[0m\n\u001b[1;32m-> 1488\u001b[1;33m             \u001b[0mx\u001b[0m\u001b[1;33m,\u001b[0m \u001b[0my\u001b[0m\u001b[1;33m,\u001b[0m \u001b[0mz\u001b[0m \u001b[1;33m=\u001b[0m \u001b[0mself\u001b[0m\u001b[1;33m.\u001b[0m\u001b[0m_check_xyz\u001b[0m\u001b[1;33m(\u001b[0m\u001b[0margs\u001b[0m\u001b[1;33m[\u001b[0m\u001b[1;33m:\u001b[0m\u001b[1;36m3\u001b[0m\u001b[1;33m]\u001b[0m\u001b[1;33m,\u001b[0m \u001b[0mkwargs\u001b[0m\u001b[1;33m)\u001b[0m\u001b[1;33m\u001b[0m\u001b[1;33m\u001b[0m\u001b[0m\n\u001b[0m\u001b[0;32m   1489\u001b[0m             \u001b[0margs\u001b[0m \u001b[1;33m=\u001b[0m \u001b[0margs\u001b[0m\u001b[1;33m[\u001b[0m\u001b[1;36m3\u001b[0m\u001b[1;33m:\u001b[0m\u001b[1;33m]\u001b[0m\u001b[1;33m\u001b[0m\u001b[1;33m\u001b[0m\u001b[0m\n\u001b[0;32m   1490\u001b[0m         \u001b[1;32melse\u001b[0m\u001b[1;33m:\u001b[0m\u001b[1;33m\u001b[0m\u001b[1;33m\u001b[0m\u001b[0m\n",
      "\u001b[1;32mE:\\Programas\\Conda\\lib\\site-packages\\matplotlib\\contour.py\u001b[0m in \u001b[0;36m_check_xyz\u001b[1;34m(self, args, kwargs)\u001b[0m\n\u001b[0;32m   1512\u001b[0m         \u001b[0my\u001b[0m \u001b[1;33m=\u001b[0m \u001b[0mself\u001b[0m\u001b[1;33m.\u001b[0m\u001b[0maxes\u001b[0m\u001b[1;33m.\u001b[0m\u001b[0mconvert_yunits\u001b[0m\u001b[1;33m(\u001b[0m\u001b[0my\u001b[0m\u001b[1;33m)\u001b[0m\u001b[1;33m\u001b[0m\u001b[1;33m\u001b[0m\u001b[0m\n\u001b[0;32m   1513\u001b[0m \u001b[1;33m\u001b[0m\u001b[0m\n\u001b[1;32m-> 1514\u001b[1;33m         \u001b[0mx\u001b[0m \u001b[1;33m=\u001b[0m \u001b[0mnp\u001b[0m\u001b[1;33m.\u001b[0m\u001b[0masarray\u001b[0m\u001b[1;33m(\u001b[0m\u001b[0mx\u001b[0m\u001b[1;33m,\u001b[0m \u001b[0mdtype\u001b[0m\u001b[1;33m=\u001b[0m\u001b[0mnp\u001b[0m\u001b[1;33m.\u001b[0m\u001b[0mfloat64\u001b[0m\u001b[1;33m)\u001b[0m\u001b[1;33m\u001b[0m\u001b[1;33m\u001b[0m\u001b[0m\n\u001b[0m\u001b[0;32m   1515\u001b[0m         \u001b[0my\u001b[0m \u001b[1;33m=\u001b[0m \u001b[0mnp\u001b[0m\u001b[1;33m.\u001b[0m\u001b[0masarray\u001b[0m\u001b[1;33m(\u001b[0m\u001b[0my\u001b[0m\u001b[1;33m,\u001b[0m \u001b[0mdtype\u001b[0m\u001b[1;33m=\u001b[0m\u001b[0mnp\u001b[0m\u001b[1;33m.\u001b[0m\u001b[0mfloat64\u001b[0m\u001b[1;33m)\u001b[0m\u001b[1;33m\u001b[0m\u001b[1;33m\u001b[0m\u001b[0m\n\u001b[0;32m   1516\u001b[0m         \u001b[0mz\u001b[0m \u001b[1;33m=\u001b[0m \u001b[0mma\u001b[0m\u001b[1;33m.\u001b[0m\u001b[0masarray\u001b[0m\u001b[1;33m(\u001b[0m\u001b[0margs\u001b[0m\u001b[1;33m[\u001b[0m\u001b[1;36m2\u001b[0m\u001b[1;33m]\u001b[0m\u001b[1;33m,\u001b[0m \u001b[0mdtype\u001b[0m\u001b[1;33m=\u001b[0m\u001b[0mnp\u001b[0m\u001b[1;33m.\u001b[0m\u001b[0mfloat64\u001b[0m\u001b[1;33m)\u001b[0m\u001b[1;33m\u001b[0m\u001b[1;33m\u001b[0m\u001b[0m\n",
      "\u001b[1;31mValueError\u001b[0m: setting an array element with a sequence."
     ]
    },
    {
     "data": {
      "image/png": "[encoded data removed]",
      "text/plain": [
       "<Figure size 432x288 with 1 Axes>"
      ]
     },
     "metadata": {
      "needs_background": "light"
     },
     "output_type": "display_data"
    }
   ],
   "source": [
    "x_array = np.array([\n",
    "    [1, 2, 3],\n",
    "    [1, 2, 3],\n",
    "    [1, 2, 3],\n",
    "    [1, 2]\n",
    "    \n",
    "])\n",
    "\n",
    "y_array = np.array([\n",
    "    [1, 1, 3],\n",
    "    [2, 5, 10],\n",
    "    [3, 7, 14]\n",
    "    \n",
    "])\n",
    "\n",
    "z_array = np.array([\n",
    "    [0.5, 1, 1.5],\n",
    "    [2, 2.5, 3],\n",
    "    [3, 3.5, 4]\n",
    "    \n",
    "])\n",
    "\n",
    "fig, ax = plt.subplots()\n",
    "\n",
    "\n",
    "figura = ax.contourf(x_array, y_array, z_array, 100)\n",
    "\n",
    "fig.colorbar(figura)"
   ]
  },
  {
   "cell_type": "code",
   "execution_count": 137,
   "metadata": {},
   "outputs": [],
   "source": [
    "x_array_ = distancias_matriz.T.to_numpy()\n",
    "y_array_= profundidades.T.to_numpy()  \n",
    "z_array_ = intensidade.T.to_numpy()"
   ]
  },
  {
   "cell_type": "code",
   "execution_count": 129,
   "metadata": {},
   "outputs": [],
   "source": [
    "inds = np.logical_not(np.isnan(x_array_) | np.isnan(y_array_) | np.isnan(z_array_))"
   ]
  },
  {
   "cell_type": "code",
   "execution_count": 158,
   "metadata": {
    "scrolled": true
   },
   "outputs": [
    {
     "data": {
      "text/plain": [
       "7196"
      ]
     },
     "execution_count": 158,
     "metadata": {},
     "output_type": "execute_result"
    }
   ],
   "source": [
    "x_array_[~np.isnan(x_array_)]"
   ]
  },
  {
   "cell_type": "code",
   "execution_count": 159,
   "metadata": {},
   "outputs": [
    {
     "ename": "TypeError",
     "evalue": "Input z must be 2D, not 1D",
     "output_type": "error",
     "traceback": [
      "\u001b[1;31m---------------------------------------------------------------------------\u001b[0m",
      "\u001b[1;31mTypeError\u001b[0m                                 Traceback (most recent call last)",
      "\u001b[1;32m<ipython-input-159-d5804f62e28a>\u001b[0m in \u001b[0;36m<module>\u001b[1;34m\u001b[0m\n\u001b[0;32m      2\u001b[0m \u001b[1;33m\u001b[0m\u001b[0m\n\u001b[0;32m      3\u001b[0m \u001b[1;33m\u001b[0m\u001b[0m\n\u001b[1;32m----> 4\u001b[1;33m \u001b[0mfigura\u001b[0m \u001b[1;33m=\u001b[0m \u001b[0max\u001b[0m\u001b[1;33m.\u001b[0m\u001b[0mcontourf\u001b[0m\u001b[1;33m(\u001b[0m\u001b[0mx_array_\u001b[0m\u001b[1;33m[\u001b[0m\u001b[1;33m~\u001b[0m\u001b[0mnp\u001b[0m\u001b[1;33m.\u001b[0m\u001b[0misnan\u001b[0m\u001b[1;33m(\u001b[0m\u001b[0mx_array_\u001b[0m\u001b[1;33m)\u001b[0m\u001b[1;33m]\u001b[0m\u001b[1;33m,\u001b[0m \u001b[1;33m-\u001b[0m\u001b[0my_array_\u001b[0m\u001b[1;33m[\u001b[0m\u001b[1;33m~\u001b[0m\u001b[0mnp\u001b[0m\u001b[1;33m.\u001b[0m\u001b[0misnan\u001b[0m\u001b[1;33m(\u001b[0m\u001b[0mx_array_\u001b[0m\u001b[1;33m)\u001b[0m\u001b[1;33m]\u001b[0m\u001b[1;33m,\u001b[0m \u001b[0mz_array_\u001b[0m\u001b[1;33m[\u001b[0m\u001b[1;33m~\u001b[0m\u001b[0mnp\u001b[0m\u001b[1;33m.\u001b[0m\u001b[0misnan\u001b[0m\u001b[1;33m(\u001b[0m\u001b[0mx_array_\u001b[0m\u001b[1;33m)\u001b[0m\u001b[1;33m]\u001b[0m\u001b[1;33m,\u001b[0m \u001b[1;36m100\u001b[0m\u001b[1;33m)\u001b[0m\u001b[1;33m\u001b[0m\u001b[1;33m\u001b[0m\u001b[0m\n\u001b[0m\u001b[0;32m      5\u001b[0m \u001b[1;33m\u001b[0m\u001b[0m\n\u001b[0;32m      6\u001b[0m \u001b[0mfig\u001b[0m\u001b[1;33m.\u001b[0m\u001b[0mcolorbar\u001b[0m\u001b[1;33m(\u001b[0m\u001b[0mfigura\u001b[0m\u001b[1;33m)\u001b[0m\u001b[1;33m\u001b[0m\u001b[1;33m\u001b[0m\u001b[0m\n",
      "\u001b[1;32mE:\\Programas\\Conda\\lib\\site-packages\\matplotlib\\__init__.py\u001b[0m in \u001b[0;36minner\u001b[1;34m(ax, data, *args, **kwargs)\u001b[0m\n\u001b[0;32m   1436\u001b[0m     \u001b[1;32mdef\u001b[0m \u001b[0minner\u001b[0m\u001b[1;33m(\u001b[0m\u001b[0max\u001b[0m\u001b[1;33m,\u001b[0m \u001b[1;33m*\u001b[0m\u001b[0margs\u001b[0m\u001b[1;33m,\u001b[0m \u001b[0mdata\u001b[0m\u001b[1;33m=\u001b[0m\u001b[1;32mNone\u001b[0m\u001b[1;33m,\u001b[0m \u001b[1;33m**\u001b[0m\u001b[0mkwargs\u001b[0m\u001b[1;33m)\u001b[0m\u001b[1;33m:\u001b[0m\u001b[1;33m\u001b[0m\u001b[1;33m\u001b[0m\u001b[0m\n\u001b[0;32m   1437\u001b[0m         \u001b[1;32mif\u001b[0m \u001b[0mdata\u001b[0m \u001b[1;32mis\u001b[0m \u001b[1;32mNone\u001b[0m\u001b[1;33m:\u001b[0m\u001b[1;33m\u001b[0m\u001b[1;33m\u001b[0m\u001b[0m\n\u001b[1;32m-> 1438\u001b[1;33m             \u001b[1;32mreturn\u001b[0m \u001b[0mfunc\u001b[0m\u001b[1;33m(\u001b[0m\u001b[0max\u001b[0m\u001b[1;33m,\u001b[0m \u001b[1;33m*\u001b[0m\u001b[0mmap\u001b[0m\u001b[1;33m(\u001b[0m\u001b[0msanitize_sequence\u001b[0m\u001b[1;33m,\u001b[0m \u001b[0margs\u001b[0m\u001b[1;33m)\u001b[0m\u001b[1;33m,\u001b[0m \u001b[1;33m**\u001b[0m\u001b[0mkwargs\u001b[0m\u001b[1;33m)\u001b[0m\u001b[1;33m\u001b[0m\u001b[1;33m\u001b[0m\u001b[0m\n\u001b[0m\u001b[0;32m   1439\u001b[0m \u001b[1;33m\u001b[0m\u001b[0m\n\u001b[0;32m   1440\u001b[0m         \u001b[0mbound\u001b[0m \u001b[1;33m=\u001b[0m \u001b[0mnew_sig\u001b[0m\u001b[1;33m.\u001b[0m\u001b[0mbind\u001b[0m\u001b[1;33m(\u001b[0m\u001b[0max\u001b[0m\u001b[1;33m,\u001b[0m \u001b[1;33m*\u001b[0m\u001b[0margs\u001b[0m\u001b[1;33m,\u001b[0m \u001b[1;33m**\u001b[0m\u001b[0mkwargs\u001b[0m\u001b[1;33m)\u001b[0m\u001b[1;33m\u001b[0m\u001b[1;33m\u001b[0m\u001b[0m\n",
      "\u001b[1;32mE:\\Programas\\Conda\\lib\\site-packages\\matplotlib\\axes\\_axes.py\u001b[0m in \u001b[0;36mcontourf\u001b[1;34m(self, *args, **kwargs)\u001b[0m\n\u001b[0;32m   6338\u001b[0m     \u001b[1;32mdef\u001b[0m \u001b[0mcontourf\u001b[0m\u001b[1;33m(\u001b[0m\u001b[0mself\u001b[0m\u001b[1;33m,\u001b[0m \u001b[1;33m*\u001b[0m\u001b[0margs\u001b[0m\u001b[1;33m,\u001b[0m \u001b[1;33m**\u001b[0m\u001b[0mkwargs\u001b[0m\u001b[1;33m)\u001b[0m\u001b[1;33m:\u001b[0m\u001b[1;33m\u001b[0m\u001b[1;33m\u001b[0m\u001b[0m\n\u001b[0;32m   6339\u001b[0m         \u001b[0mkwargs\u001b[0m\u001b[1;33m[\u001b[0m\u001b[1;34m'filled'\u001b[0m\u001b[1;33m]\u001b[0m \u001b[1;33m=\u001b[0m \u001b[1;32mTrue\u001b[0m\u001b[1;33m\u001b[0m\u001b[1;33m\u001b[0m\u001b[0m\n\u001b[1;32m-> 6340\u001b[1;33m         \u001b[0mcontours\u001b[0m \u001b[1;33m=\u001b[0m \u001b[0mmcontour\u001b[0m\u001b[1;33m.\u001b[0m\u001b[0mQuadContourSet\u001b[0m\u001b[1;33m(\u001b[0m\u001b[0mself\u001b[0m\u001b[1;33m,\u001b[0m \u001b[1;33m*\u001b[0m\u001b[0margs\u001b[0m\u001b[1;33m,\u001b[0m \u001b[1;33m**\u001b[0m\u001b[0mkwargs\u001b[0m\u001b[1;33m)\u001b[0m\u001b[1;33m\u001b[0m\u001b[1;33m\u001b[0m\u001b[0m\n\u001b[0m\u001b[0;32m   6341\u001b[0m         \u001b[0mself\u001b[0m\u001b[1;33m.\u001b[0m\u001b[0m_request_autoscale_view\u001b[0m\u001b[1;33m(\u001b[0m\u001b[1;33m)\u001b[0m\u001b[1;33m\u001b[0m\u001b[1;33m\u001b[0m\u001b[0m\n\u001b[0;32m   6342\u001b[0m         \u001b[1;32mreturn\u001b[0m \u001b[0mcontours\u001b[0m\u001b[1;33m\u001b[0m\u001b[1;33m\u001b[0m\u001b[0m\n",
      "\u001b[1;32mE:\\Programas\\Conda\\lib\\site-packages\\matplotlib\\contour.py\u001b[0m in \u001b[0;36m__init__\u001b[1;34m(self, ax, levels, filled, linewidths, linestyles, hatches, alpha, origin, extent, cmap, colors, norm, vmin, vmax, extend, antialiased, nchunk, locator, transform, *args, **kwargs)\u001b[0m\n\u001b[0;32m    814\u001b[0m         \u001b[0mself\u001b[0m\u001b[1;33m.\u001b[0m\u001b[0m_transform\u001b[0m \u001b[1;33m=\u001b[0m \u001b[0mtransform\u001b[0m\u001b[1;33m\u001b[0m\u001b[1;33m\u001b[0m\u001b[0m\n\u001b[0;32m    815\u001b[0m \u001b[1;33m\u001b[0m\u001b[0m\n\u001b[1;32m--> 816\u001b[1;33m         \u001b[0mkwargs\u001b[0m \u001b[1;33m=\u001b[0m \u001b[0mself\u001b[0m\u001b[1;33m.\u001b[0m\u001b[0m_process_args\u001b[0m\u001b[1;33m(\u001b[0m\u001b[1;33m*\u001b[0m\u001b[0margs\u001b[0m\u001b[1;33m,\u001b[0m \u001b[1;33m**\u001b[0m\u001b[0mkwargs\u001b[0m\u001b[1;33m)\u001b[0m\u001b[1;33m\u001b[0m\u001b[1;33m\u001b[0m\u001b[0m\n\u001b[0m\u001b[0;32m    817\u001b[0m         \u001b[0mself\u001b[0m\u001b[1;33m.\u001b[0m\u001b[0m_process_levels\u001b[0m\u001b[1;33m(\u001b[0m\u001b[1;33m)\u001b[0m\u001b[1;33m\u001b[0m\u001b[1;33m\u001b[0m\u001b[0m\n\u001b[0;32m    818\u001b[0m \u001b[1;33m\u001b[0m\u001b[0m\n",
      "\u001b[1;32mE:\\Programas\\Conda\\lib\\site-packages\\matplotlib\\contour.py\u001b[0m in \u001b[0;36m_process_args\u001b[1;34m(self, corner_mask, *args, **kwargs)\u001b[0m\n\u001b[0;32m   1428\u001b[0m             \u001b[0mself\u001b[0m\u001b[1;33m.\u001b[0m\u001b[0m_corner_mask\u001b[0m \u001b[1;33m=\u001b[0m \u001b[0mcorner_mask\u001b[0m\u001b[1;33m\u001b[0m\u001b[1;33m\u001b[0m\u001b[0m\n\u001b[0;32m   1429\u001b[0m \u001b[1;33m\u001b[0m\u001b[0m\n\u001b[1;32m-> 1430\u001b[1;33m             \u001b[0mx\u001b[0m\u001b[1;33m,\u001b[0m \u001b[0my\u001b[0m\u001b[1;33m,\u001b[0m \u001b[0mz\u001b[0m \u001b[1;33m=\u001b[0m \u001b[0mself\u001b[0m\u001b[1;33m.\u001b[0m\u001b[0m_contour_args\u001b[0m\u001b[1;33m(\u001b[0m\u001b[0margs\u001b[0m\u001b[1;33m,\u001b[0m \u001b[0mkwargs\u001b[0m\u001b[1;33m)\u001b[0m\u001b[1;33m\u001b[0m\u001b[1;33m\u001b[0m\u001b[0m\n\u001b[0m\u001b[0;32m   1431\u001b[0m \u001b[1;33m\u001b[0m\u001b[0m\n\u001b[0;32m   1432\u001b[0m             \u001b[0m_mask\u001b[0m \u001b[1;33m=\u001b[0m \u001b[0mma\u001b[0m\u001b[1;33m.\u001b[0m\u001b[0mgetmask\u001b[0m\u001b[1;33m(\u001b[0m\u001b[0mz\u001b[0m\u001b[1;33m)\u001b[0m\u001b[1;33m\u001b[0m\u001b[1;33m\u001b[0m\u001b[0m\n",
      "\u001b[1;32mE:\\Programas\\Conda\\lib\\site-packages\\matplotlib\\contour.py\u001b[0m in \u001b[0;36m_contour_args\u001b[1;34m(self, args, kwargs)\u001b[0m\n\u001b[0;32m   1486\u001b[0m             \u001b[0margs\u001b[0m \u001b[1;33m=\u001b[0m \u001b[0margs\u001b[0m\u001b[1;33m[\u001b[0m\u001b[1;36m1\u001b[0m\u001b[1;33m:\u001b[0m\u001b[1;33m]\u001b[0m\u001b[1;33m\u001b[0m\u001b[1;33m\u001b[0m\u001b[0m\n\u001b[0;32m   1487\u001b[0m         \u001b[1;32melif\u001b[0m \u001b[0mNargs\u001b[0m \u001b[1;33m<=\u001b[0m \u001b[1;36m4\u001b[0m\u001b[1;33m:\u001b[0m\u001b[1;33m\u001b[0m\u001b[1;33m\u001b[0m\u001b[0m\n\u001b[1;32m-> 1488\u001b[1;33m             \u001b[0mx\u001b[0m\u001b[1;33m,\u001b[0m \u001b[0my\u001b[0m\u001b[1;33m,\u001b[0m \u001b[0mz\u001b[0m \u001b[1;33m=\u001b[0m \u001b[0mself\u001b[0m\u001b[1;33m.\u001b[0m\u001b[0m_check_xyz\u001b[0m\u001b[1;33m(\u001b[0m\u001b[0margs\u001b[0m\u001b[1;33m[\u001b[0m\u001b[1;33m:\u001b[0m\u001b[1;36m3\u001b[0m\u001b[1;33m]\u001b[0m\u001b[1;33m,\u001b[0m \u001b[0mkwargs\u001b[0m\u001b[1;33m)\u001b[0m\u001b[1;33m\u001b[0m\u001b[1;33m\u001b[0m\u001b[0m\n\u001b[0m\u001b[0;32m   1489\u001b[0m             \u001b[0margs\u001b[0m \u001b[1;33m=\u001b[0m \u001b[0margs\u001b[0m\u001b[1;33m[\u001b[0m\u001b[1;36m3\u001b[0m\u001b[1;33m:\u001b[0m\u001b[1;33m]\u001b[0m\u001b[1;33m\u001b[0m\u001b[1;33m\u001b[0m\u001b[0m\n\u001b[0;32m   1490\u001b[0m         \u001b[1;32melse\u001b[0m\u001b[1;33m:\u001b[0m\u001b[1;33m\u001b[0m\u001b[1;33m\u001b[0m\u001b[0m\n",
      "\u001b[1;32mE:\\Programas\\Conda\\lib\\site-packages\\matplotlib\\contour.py\u001b[0m in \u001b[0;36m_check_xyz\u001b[1;34m(self, args, kwargs)\u001b[0m\n\u001b[0;32m   1517\u001b[0m \u001b[1;33m\u001b[0m\u001b[0m\n\u001b[0;32m   1518\u001b[0m         \u001b[1;32mif\u001b[0m \u001b[0mz\u001b[0m\u001b[1;33m.\u001b[0m\u001b[0mndim\u001b[0m \u001b[1;33m!=\u001b[0m \u001b[1;36m2\u001b[0m\u001b[1;33m:\u001b[0m\u001b[1;33m\u001b[0m\u001b[1;33m\u001b[0m\u001b[0m\n\u001b[1;32m-> 1519\u001b[1;33m             \u001b[1;32mraise\u001b[0m \u001b[0mTypeError\u001b[0m\u001b[1;33m(\u001b[0m\u001b[1;34mf\"Input z must be 2D, not {z.ndim}D\"\u001b[0m\u001b[1;33m)\u001b[0m\u001b[1;33m\u001b[0m\u001b[1;33m\u001b[0m\u001b[0m\n\u001b[0m\u001b[0;32m   1520\u001b[0m         \u001b[1;32mif\u001b[0m \u001b[0mz\u001b[0m\u001b[1;33m.\u001b[0m\u001b[0mshape\u001b[0m\u001b[1;33m[\u001b[0m\u001b[1;36m0\u001b[0m\u001b[1;33m]\u001b[0m \u001b[1;33m<\u001b[0m \u001b[1;36m2\u001b[0m \u001b[1;32mor\u001b[0m \u001b[0mz\u001b[0m\u001b[1;33m.\u001b[0m\u001b[0mshape\u001b[0m\u001b[1;33m[\u001b[0m\u001b[1;36m1\u001b[0m\u001b[1;33m]\u001b[0m \u001b[1;33m<\u001b[0m \u001b[1;36m2\u001b[0m\u001b[1;33m:\u001b[0m\u001b[1;33m\u001b[0m\u001b[1;33m\u001b[0m\u001b[0m\n\u001b[0;32m   1521\u001b[0m             raise TypeError(f\"Input z must be at least a (2, 2) shaped array, \"\n",
      "\u001b[1;31mTypeError\u001b[0m: Input z must be 2D, not 1D"
     ]
    },
    {
     "data": {
      "image/png": "[encoded data removed]",
      "text/plain": [
       "<Figure size 432x288 with 1 Axes>"
      ]
     },
     "metadata": {
      "needs_background": "light"
     },
     "output_type": "display_data"
    }
   ],
   "source": [
    "fig, ax = plt.subplots()\n",
    "\n",
    "\n",
    "figura = ax.contourf(x_array_[0:8], -y_array_[0:8], z_array_[0:8], 100)\n",
    "\n",
    "fig.colorbar(figura)\n",
    "\n"
   ]
  },
  {
   "cell_type": "code",
   "execution_count": 147,
   "metadata": {},
   "outputs": [
    {
     "data": {
      "text/plain": [
       "array([2.0000e-02, 4.0000e-02, 6.0000e-02, 8.0000e-02, 9.0000e-02,\n",
       "       1.0000e-01, 1.1000e-01, 1.3000e-01, 1.5000e-01, 1.8000e-01,\n",
       "       2.0000e-01, 2.2000e-01, 2.3000e-01, 2.4000e-01, 2.5000e-01,\n",
       "       1.0000e-02, 2.0000e-02, 2.0000e-02, 4.0000e-02, 8.0000e-02,\n",
       "       1.1000e-01, 2.0000e-01, 2.7000e-01, 3.7000e-01, 4.8000e-01,\n",
       "       5.9000e-01, 7.5000e-01, 8.9000e-01, 1.0000e+00, 1.1500e+00,\n",
       "       1.2800e+00, 1.4300e+00, 1.5700e+00, 1.7300e+00, 1.8900e+00,\n",
       "       2.0400e+00, 2.2000e+00, 2.3600e+00, 2.5400e+00, 2.6900e+00,\n",
       "       2.8500e+00, 3.0000e+00, 3.1700e+00, 3.3600e+00, 3.5800e+00,\n",
       "       3.8100e+00, 4.0300e+00, 4.2500e+00, 4.4600e+00, 4.6900e+00,\n",
       "       4.9500e+00, 5.2200e+00, 5.4400e+00, 5.6700e+00, 5.8800e+00,\n",
       "       6.1100e+00, 6.3000e+00, 6.5000e+00, 6.7100e+00, 6.9200e+00,\n",
       "       7.1500e+00, 7.4200e+00, 7.6900e+00, 7.9500e+00, 8.2100e+00,\n",
       "       8.4700e+00, 8.7300e+00, 9.0500e+00, 9.3200e+00, 9.6300e+00,\n",
       "       9.9200e+00, 1.0250e+01, 1.0570e+01, 1.0920e+01, 1.1260e+01,\n",
       "       1.1620e+01, 1.1980e+01, 1.2340e+01, 1.2710e+01, 1.3090e+01,\n",
       "       1.3470e+01, 1.3870e+01, 1.4280e+01, 1.4700e+01, 1.5120e+01,\n",
       "       1.5550e+01, 1.5990e+01, 1.6440e+01, 1.6880e+01, 1.7360e+01,\n",
       "       1.7830e+01, 1.8340e+01, 1.8830e+01, 1.9330e+01, 1.9840e+01,\n",
       "       2.0340e+01, 2.0850e+01, 2.1360e+01, 2.1890e+01, 2.2430e+01,\n",
       "       2.2980e+01, 2.3570e+01, 2.4190e+01, 2.4840e+01, 2.5500e+01,\n",
       "       2.6170e+01, 2.6810e+01, 2.7430e+01, 2.8040e+01, 2.8640e+01,\n",
       "       2.9240e+01, 2.9840e+01, 3.0440e+01, 3.1030e+01, 3.1580e+01,\n",
       "       3.2080e+01, 3.2550e+01, 3.3010e+01, 3.3490e+01, 3.3980e+01,\n",
       "       3.4460e+01, 3.4920e+01, 3.5380e+01, 3.5830e+01, 3.6270e+01,\n",
       "       3.6730e+01, 3.7200e+01, 3.7670e+01, 3.8110e+01, 3.8530e+01,\n",
       "       3.8930e+01, 3.9310e+01, 3.9700e+01, 4.0080e+01, 4.0480e+01,\n",
       "       4.0890e+01, 4.1290e+01, 4.1690e+01, 4.2090e+01, 4.2500e+01,\n",
       "       4.2890e+01, 4.3270e+01, 4.3660e+01, 4.4040e+01, 4.4420e+01,\n",
       "       4.4810e+01, 4.5220e+01, 4.5630e+01, 4.6070e+01, 4.6510e+01,\n",
       "       4.6940e+01, 4.7380e+01, 4.7830e+01, 4.8280e+01, 4.8750e+01,\n",
       "       4.9220e+01, 4.9710e+01, 5.0190e+01, 5.0660e+01, 5.1120e+01,\n",
       "       5.1550e+01, 5.1980e+01, 5.2410e+01, 5.2840e+01, 5.3270e+01,\n",
       "       5.3700e+01, 5.4140e+01, 5.4590e+01, 5.5040e+01, 5.5480e+01,\n",
       "       5.5900e+01, 5.6320e+01, 5.6720e+01, 5.7110e+01, 5.7500e+01,\n",
       "       5.7900e+01, 5.8280e+01, 5.8670e+01, 5.9070e+01, 5.9500e+01,\n",
       "       5.9940e+01, 6.0410e+01, 6.0880e+01, 6.1360e+01, 6.1840e+01,\n",
       "       6.2320e+01, 6.2810e+01, 6.3300e+01, 6.3810e+01, 6.4350e+01,\n",
       "       6.4900e+01, 6.5440e+01, 6.5980e+01, 6.6510e+01, 6.7030e+01,\n",
       "       6.7540e+01, 6.8050e+01, 6.8540e+01, 6.9040e+01, 6.9520e+01,\n",
       "       6.9990e+01, 7.0450e+01, 7.0910e+01, 7.1370e+01, 7.1830e+01,\n",
       "       7.2300e+01, 7.2780e+01, 7.3250e+01, 7.3720e+01, 7.4200e+01,\n",
       "       7.4660e+01, 7.5120e+01, 7.5530e+01, 7.5940e+01, 7.6350e+01,\n",
       "       7.6760e+01, 7.7160e+01, 7.7580e+01, 7.8020e+01, 7.8440e+01,\n",
       "       7.8860e+01, 7.9260e+01, 7.9650e+01, 8.0030e+01, 8.0430e+01,\n",
       "       8.0830e+01, 8.1250e+01, 8.1690e+01, 8.2130e+01, 8.2590e+01,\n",
       "              nan,        nan,        nan,        nan,        nan,\n",
       "              nan,        nan,        nan,        nan,        nan,\n",
       "              nan,        nan,        nan,        nan,        nan,\n",
       "              nan,        nan,        nan,        nan,        nan,\n",
       "              nan,        nan, 9.3400e+01, 9.3820e+01, 9.4260e+01,\n",
       "       9.4690e+01, 9.5120e+01, 9.5550e+01, 9.5960e+01, 9.6370e+01,\n",
       "              nan,        nan,        nan,        nan,        nan,\n",
       "              nan,        nan,        nan,        nan, 1.0026e+02,\n",
       "       1.0061e+02, 1.0095e+02, 1.0125e+02, 1.0153e+02, 1.0179e+02,\n",
       "       1.0200e+02, 1.0223e+02, 1.0244e+02, 1.0266e+02, 1.0289e+02,\n",
       "       1.0313e+02, 1.0335e+02, 1.0355e+02, 1.0375e+02, 1.0395e+02,\n",
       "       1.0415e+02, 1.0437e+02, 1.0456e+02, 1.0476e+02, 1.0496e+02,\n",
       "       1.0519e+02, 1.0543e+02, 1.0570e+02, 1.0599e+02, 1.0628e+02,\n",
       "       1.0659e+02, 1.0690e+02, 1.0719e+02, 1.0753e+02, 1.0790e+02,\n",
       "       1.0824e+02, 1.0854e+02, 1.0879e+02, 1.0900e+02, 1.0920e+02,\n",
       "       1.0935e+02, 1.0951e+02, 1.0965e+02, 1.0977e+02, 1.0986e+02,\n",
       "       1.0995e+02, 1.1001e+02, 1.1008e+02, 1.1015e+02, 1.1020e+02,\n",
       "       1.1026e+02, 1.1030e+02, 1.1038e+02, 1.1043e+02, 1.1049e+02,\n",
       "       1.1054e+02, 1.1059e+02, 1.1063e+02, 1.1067e+02, 1.1071e+02,\n",
       "       1.1074e+02, 1.1079e+02])"
      ]
     },
     "execution_count": 147,
     "metadata": {},
     "output_type": "execute_result"
    }
   ],
   "source": [
    "x_array_[8]"
   ]
  }
 ],
 "metadata": {
  "kernelspec": {
   "display_name": "Python 3",
   "language": "python",
   "name": "python3"
  },
  "language_info": {
   "codemirror_mode": {
    "name": "ipython",
    "version": 3
   },
   "file_extension": ".py",
   "mimetype": "text/x-python",
   "name": "python",
   "nbconvert_exporter": "python",
   "pygments_lexer": "ipython3",
   "version": "3.8.5"
  }
 },
 "nbformat": 4,
 "nbformat_minor": 4
}
